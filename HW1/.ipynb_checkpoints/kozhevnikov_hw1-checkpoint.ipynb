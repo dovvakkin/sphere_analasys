{
 "cells": [
  {
   "cell_type": "markdown",
   "metadata": {},
   "source": [
    "**Общая информация**\n",
    "\n",
    "**Срок сдачи:** 18 октября 2017, 06:00 <br\\>\n",
    "**Штраф за опоздание:** -2 балла после 06:00 18 октября, -4 балла после 06:00 25 октября, -6 баллов после 06:00 1 ноября\n",
    "\n",
    "При отправлении ДЗ указывайте фамилию в названии файла\n",
    "Присылать ДЗ необходимо в виде ссылки на свой github репозиторий в slack @alkhamush\n",
    "\n",
    "Необходимо в slack создать таск в приватный чат:\n",
    "/todo Фамилия Имя ссылка на гитхаб @alkhamush\n",
    "Пример:\n",
    "/todo Ксения Стройкова https://github.com/stroykova/spheremailru/stroykova_hw1.ipynb @alkhamush\n",
    "Дополнительно нужно просто скинуть ссылку в slack в личный чат\n",
    "\n",
    "Используйте данный Ipython Notebook при оформлении домашнего задания."
   ]
  },
  {
   "cell_type": "markdown",
   "metadata": {},
   "source": [
    "###### Задание 1 (2 баллов)\n",
    "Реализовать KNN в классе MyKNeighborsClassifier (обязательное условие: точность не ниже sklearn реализации)\n",
    "Разберитесь самостоятельно, какая мера расстояния используется в KNeighborsClassifier дефолтно и реализуйте свой алгоритм именно с этой мерой. Самостоятельно разберитесь, как считается score из KNeighborsClassifier и реализуйте аналог в своём классе. Score не должен уступать значению KNN из sklearn\n",
    "\n",
    "###### Задание 2 (2 балла)\n",
    "Добиться скорости работы на fit,  predict и predict_proba сравнимой со sklearn для iris и mnist\n",
    "Для этого используем numpy\n",
    "\n",
    "###### Задание 3 (2 балла)\n",
    "Для iris найдите такой параметр n_neighbors, при котором выдаётся наилучший score. Нарисуйте график зависимости score от n_neighbors\n",
    "\n",
    "###### Задание 4 (3 балла)\n",
    "Добавить algorithm='kd_tree' в реализацию KNN (использовать KDTree из sklearn.neighbors). Значение n_neighbors нужно взять из задания 3. Добиться скорости работы на fit,  predict и predict_proba сравнимой со sklearn для iris и mnist\n",
    "Для этого используем numpy. Score не должен уступать значению KNN из sklearn\n",
    "\n",
    "###### Задание 5 (1 балла)\n",
    "Описать для чего нужны следующие библиотеки/классы/функции (список будет ниже)\n",
    "\n",
    "**Штрафные баллы:**\n",
    "\n",
    "1. Невыполнение PEP8 -1 балл\n",
    "2. Отсутствие фамилии в имени скрипта (скрипт должен называться по аналогии со stroykova_hw1.ipynb) -1 балл\n",
    "3. Все строчки должны быть выполнены. Нужно, чтобы output команды можно было увидеть уже в git'е. В противном случае -1 балл\n",
    "4. При оформлении ДЗ нужно пользоваться данным файлом в качестве шаблона. Не нужно удалять и видоизменять структуру кода и текст. В противном случае -1 балл\n"
   ]
  },
  {
   "cell_type": "code",
   "execution_count": 1,
   "metadata": {
    "scrolled": false
   },
   "outputs": [],
   "source": [
    "import numpy as np\n",
    "import pandas as pd\n",
    "import matplotlib.pyplot as plt\n",
    "import seaborn as sns\n",
    "\n",
    "from sklearn import neighbors\n",
    "from sklearn import datasets\n",
    "from sklearn.base import ClassifierMixin\n",
    "from sklearn.datasets import fetch_mldata\n",
    "from sklearn.neighbors.base import NeighborsBase, KNeighborsMixin, SupervisedIntegerMixin \n",
    "from sklearn.model_selection import train_test_split\n",
    "from sklearn.neighbors import KNeighborsClassifier\n",
    "from sklearn.preprocessing import normalize\n",
    "# %load_ext pycodestyle_magic"
   ]
  },
  {
   "cell_type": "code",
   "execution_count": 237,
   "metadata": {},
   "outputs": [],
   "source": [
    "# %%pycodestyle\n",
    "\n",
    "\n",
    "class MyKNeighborsClassifier(NeighborsBase,\n",
    "                             KNeighborsMixin,\n",
    "                             SupervisedIntegerMixin,\n",
    "                             ClassifierMixin):\n",
    "\n",
    "    def __init__(self, n_neighbors, algorithm='brute'):\n",
    "        self.n_neighbor = n_neighbors\n",
    "        self.algorithm = algorithm\n",
    "\n",
    "    def fit(self, X, y):\n",
    "        if self.algorithm == 'kd_tree':\n",
    "            arr = np.array(X)\n",
    "            self.train_y = np.array(y).astype(int)\n",
    "            self.tree = neighbors.KDTree(arr)\n",
    "        elif self.algorithm == 'brute':\n",
    "            self.train_x = np.array(X)\n",
    "            self.train_y = np.array(y).astype(int)\n",
    "        self.number_of_classes = len(np.unique(self.train_y))\n",
    "    \n",
    "    def _get_stat(self, point):\n",
    "            test_dist = [[np.linalg.norm(point - self.train_x[i]),\n",
    "                         self.train_y[i]] for i in\n",
    "                         range(self.train_x.shape[0])]\n",
    "            stat = [0 for i in range(self.number_of_classes)]\n",
    "            for d in sorted(test_dist)[0:self.n_neighbor]:\n",
    "                stat[d[1]] += 1\n",
    "            return stat\n",
    "    \n",
    "    def predict_brute(self, X):\n",
    "        test_labels = np.array([])\n",
    "        proba = self.predict_proba_brute(X).astype(int)\n",
    "        for i in range(proba.shape[0]):\n",
    "            test_labels = np.append(test_labels, np.argsort(proba[i])[::-1][0])\n",
    "        return test_labels.astype(int)\n",
    "\n",
    "    def predict_proba_brute(self, X):\n",
    "        test_labels = np.array([])\n",
    "        for i in range(X.shape[0]):\n",
    "            stat = self._get_stat(X[i])\n",
    "            test_labels = np.append(test_labels, stat)\n",
    "        test_labels.shape = (X.shape[0], self.number_of_classes)\n",
    "        test_labels = np.divide(test_labels, self.n_neighbor)\n",
    "        return test_labels\n",
    "\n",
    "    def predict_kd_tree(self, X):\n",
    "        test_labels = np.array([])\n",
    "        (dist, ind) = self.tree.query(X, k=self.n_neighbor)\n",
    "        for y in self.train_y[ind]:\n",
    "            test_labels = np.append(test_labels,\n",
    "                                    np.bincount(y).argmax())\n",
    "        return test_labels.astype(int)\n",
    "\n",
    "    def predict_proba_kd_tree(self, X):\n",
    "        test_labels = np.array([])\n",
    "        (dist, ind) = self.tree.query(X, k=self.n_neighbor)\n",
    "        for y in self.train_y[ind]:\n",
    "            stat = np.resize(np.bincount(y), (1, self.number_of_classes))\n",
    "            print(stat)\n",
    "            \n",
    "            test_labels = np.append(test_labels, stat)\n",
    "        test_labels.shape = (X.shape[0], self.number_of_classes)\n",
    "        test_labels = np.divide(test_labels, self.n_neighbor)\n",
    "        return test_labels\n",
    "\n",
    "    def predict(self, X):\n",
    "        if self.algorithm == 'brute':\n",
    "            return self.predict_brute(X)\n",
    "        elif self.algorithm == 'kd_tree':\n",
    "            return self.predict_kd_tree(X)\n",
    "\n",
    "    def predict_proba(self, X):\n",
    "        if self.algorithm == 'brute':\n",
    "            return self.predict_proba_brute(X)\n",
    "        elif self.algorithm == 'kd_tree':\n",
    "            return self.predict_proba_kd_tree(X)\n",
    "\n",
    "    def score(self, X, y):\n",
    "        vector = np.subtract(self.predict(X), y)\n",
    "        summa = np.count_nonzero(vector)\n",
    "        return 1 - summa / y.shape[0]"
   ]
  },
  {
   "cell_type": "markdown",
   "metadata": {},
   "source": [
    "**IRIS**"
   ]
  },
  {
   "cell_type": "code",
   "execution_count": 238,
   "metadata": {
    "scrolled": true
   },
   "outputs": [],
   "source": [
    "iris = datasets.load_iris()"
   ]
  },
  {
   "cell_type": "code",
   "execution_count": 239,
   "metadata": {},
   "outputs": [],
   "source": [
    "X_train, X_test, y_train, y_test = train_test_split(iris.data, iris.target, test_size=0.1, stratify=iris.target)"
   ]
  },
  {
   "cell_type": "code",
   "execution_count": 240,
   "metadata": {},
   "outputs": [],
   "source": [
    "clf = KNeighborsClassifier(n_neighbors=2)\n",
    "my_clf = MyKNeighborsClassifier(n_neighbors=2, algorithm = 'kd_tree')"
   ]
  },
  {
   "cell_type": "code",
   "execution_count": 241,
   "metadata": {},
   "outputs": [
    {
     "name": "stdout",
     "output_type": "stream",
     "text": [
      "CPU times: user 1.28 ms, sys: 1.25 ms, total: 2.52 ms\n",
      "Wall time: 2.13 ms\n"
     ]
    },
    {
     "data": {
      "text/plain": [
       "KNeighborsClassifier(algorithm='auto', leaf_size=30, metric='minkowski',\n",
       "           metric_params=None, n_jobs=1, n_neighbors=2, p=2,\n",
       "           weights='uniform')"
      ]
     },
     "execution_count": 241,
     "metadata": {},
     "output_type": "execute_result"
    }
   ],
   "source": [
    "%time clf.fit(X_train, y_train)"
   ]
  },
  {
   "cell_type": "code",
   "execution_count": 242,
   "metadata": {},
   "outputs": [
    {
     "name": "stdout",
     "output_type": "stream",
     "text": [
      "CPU times: user 578 µs, sys: 240 µs, total: 818 µs\n",
      "Wall time: 687 µs\n"
     ]
    }
   ],
   "source": [
    "%time my_clf.fit(X_train, y_train)"
   ]
  },
  {
   "cell_type": "code",
   "execution_count": 243,
   "metadata": {},
   "outputs": [
    {
     "name": "stdout",
     "output_type": "stream",
     "text": [
      "CPU times: user 1.85 ms, sys: 2.06 ms, total: 3.92 ms\n",
      "Wall time: 3.67 ms\n"
     ]
    },
    {
     "data": {
      "text/plain": [
       "array([2, 0, 2, 2, 2, 1, 1, 0, 0, 1, 0, 1, 0, 1, 2])"
      ]
     },
     "execution_count": 243,
     "metadata": {},
     "output_type": "execute_result"
    }
   ],
   "source": [
    "%time clf.predict(X_test)"
   ]
  },
  {
   "cell_type": "code",
   "execution_count": 244,
   "metadata": {},
   "outputs": [
    {
     "name": "stdout",
     "output_type": "stream",
     "text": [
      "CPU times: user 1.17 ms, sys: 1.04 ms, total: 2.21 ms\n",
      "Wall time: 1.48 ms\n"
     ]
    },
    {
     "data": {
      "text/plain": [
       "array([2, 0, 2, 2, 2, 1, 1, 0, 0, 1, 0, 1, 0, 1, 2])"
      ]
     },
     "execution_count": 244,
     "metadata": {},
     "output_type": "execute_result"
    }
   ],
   "source": [
    "%time my_clf.predict(X_test)"
   ]
  },
  {
   "cell_type": "code",
   "execution_count": 245,
   "metadata": {},
   "outputs": [
    {
     "name": "stdout",
     "output_type": "stream",
     "text": [
      "CPU times: user 1.11 ms, sys: 627 µs, total: 1.74 ms\n",
      "Wall time: 1.25 ms\n"
     ]
    },
    {
     "data": {
      "text/plain": [
       "array([[0., 0., 1.],\n",
       "       [1., 0., 0.],\n",
       "       [0., 0., 1.],\n",
       "       [0., 0., 1.],\n",
       "       [0., 0., 1.],\n",
       "       [0., 1., 0.],\n",
       "       [0., 1., 0.],\n",
       "       [1., 0., 0.],\n",
       "       [1., 0., 0.],\n",
       "       [0., 1., 0.],\n",
       "       [1., 0., 0.],\n",
       "       [0., 1., 0.],\n",
       "       [1., 0., 0.],\n",
       "       [0., 1., 0.],\n",
       "       [0., 0., 1.]])"
      ]
     },
     "execution_count": 245,
     "metadata": {},
     "output_type": "execute_result"
    }
   ],
   "source": [
    "%time clf.predict_proba(X_test)"
   ]
  },
  {
   "cell_type": "code",
   "execution_count": 246,
   "metadata": {},
   "outputs": [
    {
     "name": "stdout",
     "output_type": "stream",
     "text": [
      "[2 2]\n",
      "[[0 0 2]]\n",
      "[0 0]\n",
      "[[2 2 2]]\n",
      "[2 2]\n",
      "[[0 0 2]]\n",
      "[2 2]\n",
      "[[0 0 2]]\n",
      "[2 2]\n",
      "[[0 0 2]]\n",
      "[1 1]\n",
      "[[0 2 0]]\n",
      "[1 1]\n",
      "[[0 2 0]]\n",
      "[0 0]\n",
      "[[2 2 2]]\n",
      "[0 0]\n",
      "[[2 2 2]]\n",
      "[1 1]\n",
      "[[0 2 0]]\n",
      "[0 0]\n",
      "[[2 2 2]]\n",
      "[1 1]\n",
      "[[0 2 0]]\n",
      "[0 0]\n",
      "[[2 2 2]]\n",
      "[1 1]\n",
      "[[0 2 0]]\n",
      "[2 2]\n",
      "[[0 0 2]]\n",
      "CPU times: user 9.23 ms, sys: 3.77 ms, total: 13 ms\n",
      "Wall time: 10.1 ms\n"
     ]
    },
    {
     "data": {
      "text/plain": [
       "array([[0., 0., 1.],\n",
       "       [1., 1., 1.],\n",
       "       [0., 0., 1.],\n",
       "       [0., 0., 1.],\n",
       "       [0., 0., 1.],\n",
       "       [0., 1., 0.],\n",
       "       [0., 1., 0.],\n",
       "       [1., 1., 1.],\n",
       "       [1., 1., 1.],\n",
       "       [0., 1., 0.],\n",
       "       [1., 1., 1.],\n",
       "       [0., 1., 0.],\n",
       "       [1., 1., 1.],\n",
       "       [0., 1., 0.],\n",
       "       [0., 0., 1.]])"
      ]
     },
     "execution_count": 246,
     "metadata": {},
     "output_type": "execute_result"
    }
   ],
   "source": [
    "%time my_clf.predict_proba(X_test)"
   ]
  },
  {
   "cell_type": "code",
   "execution_count": 226,
   "metadata": {},
   "outputs": [
    {
     "data": {
      "text/plain": [
       "0.8666666666666667"
      ]
     },
     "execution_count": 226,
     "metadata": {},
     "output_type": "execute_result"
    }
   ],
   "source": [
    "clf.score(X_test, y_test)"
   ]
  },
  {
   "cell_type": "code",
   "execution_count": 227,
   "metadata": {},
   "outputs": [
    {
     "data": {
      "text/plain": [
       "0.9333333333333333"
      ]
     },
     "execution_count": 227,
     "metadata": {},
     "output_type": "execute_result"
    }
   ],
   "source": [
    "my_clf.score(X_test, y_test)"
   ]
  },
  {
   "cell_type": "markdown",
   "metadata": {},
   "source": [
    "Задание 3"
   ]
  },
  {
   "cell_type": "code",
   "execution_count": 17,
   "metadata": {},
   "outputs": [
    {
     "name": "stdout",
     "output_type": "stream",
     "text": [
      "best best_n_neighbors= 1\n"
     ]
    },
    {
     "ename": "AttributeError",
     "evalue": "module 'seaborn' has no attribute 'lineplot'",
     "output_type": "error",
     "traceback": [
      "\u001b[0;31m---------------------------------------------------------------------------\u001b[0m",
      "\u001b[0;31mAttributeError\u001b[0m                            Traceback (most recent call last)",
      "\u001b[0;32m<ipython-input-17-9dc0554de4de>\u001b[0m in \u001b[0;36m<module>\u001b[0;34m()\u001b[0m\n\u001b[1;32m     29\u001b[0m \u001b[0;31m# print(df)\u001b[0m\u001b[0;34m\u001b[0m\u001b[0;34m\u001b[0m\u001b[0m\n\u001b[1;32m     30\u001b[0m \u001b[0;34m\u001b[0m\u001b[0m\n\u001b[0;32m---> 31\u001b[0;31m \u001b[0msns\u001b[0m\u001b[0;34m.\u001b[0m\u001b[0mlineplot\u001b[0m\u001b[0;34m(\u001b[0m\u001b[0mx\u001b[0m\u001b[0;34m=\u001b[0m\u001b[0;34m\"n_neighbors\"\u001b[0m\u001b[0;34m,\u001b[0m \u001b[0my\u001b[0m\u001b[0;34m=\u001b[0m\u001b[0;34m\"score\"\u001b[0m\u001b[0;34m,\u001b[0m \u001b[0mdata\u001b[0m \u001b[0;34m=\u001b[0m \u001b[0mdf\u001b[0m\u001b[0;34m)\u001b[0m\u001b[0;34m\u001b[0m\u001b[0m\n\u001b[0m",
      "\u001b[0;31mAttributeError\u001b[0m: module 'seaborn' has no attribute 'lineplot'"
     ]
    }
   ],
   "source": [
    "sns.set(style=\"darkgrid\")\n",
    "\n",
    "score = []\n",
    "n_neighbors = []\n",
    "best_n_neighbors = 0\n",
    "best_score = 0\n",
    "loop = 10\n",
    "for i in range(1, 15):\n",
    "    n_neighbors.append(i)\n",
    "    clf = KNeighborsClassifier(n_neighbors=i)\n",
    "    score_sum = 0\n",
    "    for j in range(loop):\n",
    "        X_train, X_test, y_train, y_test = train_test_split(iris.data,\n",
    "                                                            iris.target,\n",
    "                                                            test_size=0.1,\n",
    "                                                            stratify=iris.target)\n",
    "        clf.fit(X_train, y_train)\n",
    "        score_sum += clf.score(X_test, y_test)\n",
    "    sc = score_sum/loop  \n",
    "    score.append(sc)\n",
    "    if sc > best_score:\n",
    "        best_score = sc\n",
    "        best_best_n_neighbors = i\n",
    "\n",
    "d = {'score': score, 'n_neighbors': n_neighbors}\n",
    "df = pd.DataFrame(data=d)\n",
    "\n",
    "print(\"best best_n_neighbors=\", best_best_n_neighbors)\n",
    "# print(df)\n",
    "\n",
    "sns.lineplot(x=\"n_neighbors\", y=\"score\", data = df)"
   ]
  },
  {
   "cell_type": "markdown",
   "metadata": {},
   "source": [
    "**MNIST**"
   ]
  },
  {
   "cell_type": "code",
   "execution_count": 229,
   "metadata": {},
   "outputs": [],
   "source": [
    "mnist = fetch_mldata('MNIST original')"
   ]
  },
  {
   "cell_type": "code",
   "execution_count": 230,
   "metadata": {},
   "outputs": [],
   "source": [
    "X_train, X_test, y_train, y_test = train_test_split(mnist.data, mnist.target, test_size=0.01, stratify=mnist.target)"
   ]
  },
  {
   "cell_type": "code",
   "execution_count": 231,
   "metadata": {},
   "outputs": [],
   "source": [
    "clf = KNeighborsClassifier(n_neighbors=2)\n",
    "my_clf = MyKNeighborsClassifier(n_neighbors=2)"
   ]
  },
  {
   "cell_type": "code",
   "execution_count": 232,
   "metadata": {},
   "outputs": [
    {
     "name": "stdout",
     "output_type": "stream",
     "text": [
      "CPU times: user 1min 22s, sys: 1.28 s, total: 1min 23s\n",
      "Wall time: 1min 24s\n"
     ]
    },
    {
     "data": {
      "text/plain": [
       "KNeighborsClassifier(algorithm='auto', leaf_size=30, metric='minkowski',\n",
       "           metric_params=None, n_jobs=1, n_neighbors=2, p=2,\n",
       "           weights='uniform')"
      ]
     },
     "execution_count": 232,
     "metadata": {},
     "output_type": "execute_result"
    }
   ],
   "source": [
    "%time clf.fit(X_train, y_train)"
   ]
  },
  {
   "cell_type": "code",
   "execution_count": 233,
   "metadata": {},
   "outputs": [
    {
     "name": "stdout",
     "output_type": "stream",
     "text": [
      "CPU times: user 78 ms, sys: 169 ms, total: 247 ms\n",
      "Wall time: 209 ms\n"
     ]
    }
   ],
   "source": [
    "%time my_clf.fit(X_train, y_train)"
   ]
  },
  {
   "cell_type": "code",
   "execution_count": 23,
   "metadata": {},
   "outputs": [
    {
     "name": "stdout",
     "output_type": "stream",
     "text": [
      "CPU times: user 1min 8s, sys: 243 ms, total: 1min 8s\n",
      "Wall time: 1min 8s\n"
     ]
    },
    {
     "data": {
      "text/plain": [
       "array([5., 8., 5., 1., 6., 1., 7., 9., 5., 6., 1., 3., 0., 0., 8., 0., 4.,\n",
       "       4., 1., 3., 2., 0., 8., 5., 2., 2., 4., 7., 1., 2., 6., 2., 3., 4.,\n",
       "       7., 3., 0., 3., 6., 7., 1., 5., 3., 4., 4., 4., 7., 0., 7., 3., 9.,\n",
       "       7., 0., 8., 8., 0., 4., 5., 4., 2., 3., 2., 7., 8., 2., 7., 8., 2.,\n",
       "       2., 6., 9., 5., 3., 4., 9., 5., 4., 3., 9., 9., 2., 4., 6., 0., 8.,\n",
       "       1., 6., 1., 2., 5., 4., 6., 9., 9., 1., 9., 2., 1., 3., 6., 9., 3.,\n",
       "       3., 7., 4., 7., 3., 7., 7., 1., 7., 1., 0., 0., 5., 6., 4., 8., 0.,\n",
       "       3., 2., 1., 6., 2., 2., 9., 9., 2., 7., 7., 0., 1., 0., 3., 6., 4.,\n",
       "       9., 4., 5., 9., 8., 2., 6., 5., 4., 4., 9., 7., 4., 2., 5., 3., 7.,\n",
       "       8., 6., 4., 8., 8., 9., 4., 3., 1., 1., 3., 3., 9., 7., 7., 5., 1.,\n",
       "       3., 6., 7., 1., 4., 2., 3., 9., 1., 2., 9., 6., 2., 4., 0., 5., 6.,\n",
       "       4., 0., 7., 2., 5., 7., 7., 9., 3., 3., 8., 8., 1., 5., 1., 1., 1.,\n",
       "       7., 6., 7., 4., 6., 2., 5., 6., 4., 3., 7., 7., 1., 8., 1., 1., 4.,\n",
       "       4., 1., 7., 4., 2., 6., 4., 9., 8., 5., 1., 8., 2., 8., 2., 5., 8.,\n",
       "       6., 5., 9., 3., 5., 7., 4., 3., 8., 3., 6., 7., 8., 1., 6., 2., 2.,\n",
       "       8., 6., 7., 5., 1., 6., 8., 1., 5., 1., 4., 4., 9., 7., 0., 7., 3.,\n",
       "       4., 2., 7., 1., 4., 0., 9., 7., 2., 3., 4., 2., 7., 1., 2., 3., 5.,\n",
       "       1., 5., 3., 0., 8., 0., 6., 2., 9., 8., 9., 3., 0., 5., 0., 9., 9.,\n",
       "       3., 7., 3., 4., 1., 7., 5., 2., 3., 3., 3., 2., 0., 8., 1., 3., 8.,\n",
       "       3., 9., 8., 5., 1., 0., 0., 6., 0., 1., 6., 1., 9., 3., 1., 3., 5.,\n",
       "       5., 5., 8., 2., 9., 0., 5., 6., 8., 4., 0., 0., 2., 8., 6., 6., 0.,\n",
       "       6., 0., 3., 5., 4., 7., 2., 9., 8., 0., 3., 6., 0., 6., 1., 5., 1.,\n",
       "       8., 5., 3., 7., 9., 0., 5., 4., 7., 7., 4., 3., 5., 2., 5., 4., 4.,\n",
       "       9., 8., 0., 2., 2., 2., 0., 6., 1., 8., 3., 9., 3., 4., 6., 0., 1.,\n",
       "       3., 5., 9., 9., 3., 6., 0., 3., 1., 7., 0., 0., 6., 3., 6., 3., 7.,\n",
       "       0., 3., 1., 1., 0., 9., 0., 2., 1., 6., 6., 4., 5., 3., 9., 9., 9.,\n",
       "       1., 7., 8., 8., 8., 2., 2., 6., 6., 7., 1., 7., 2., 9., 8., 1., 0.,\n",
       "       7., 5., 4., 8., 0., 2., 9., 0., 6., 2., 7., 8., 6., 7., 7., 0., 7.,\n",
       "       4., 6., 2., 3., 6., 9., 1., 1., 9., 1., 0., 8., 9., 8., 7., 3., 8.,\n",
       "       5., 1., 9., 3., 4., 6., 7., 7., 6., 0., 4., 8., 1., 8., 4., 5., 7.,\n",
       "       6., 9., 0., 0., 6., 7., 5., 4., 1., 5., 4., 0., 7., 6., 0., 0., 1.,\n",
       "       7., 9., 8., 9., 3., 4., 5., 9., 2., 7., 0., 7., 7., 4., 1., 2., 2.,\n",
       "       5., 9., 8., 9., 2., 5., 8., 9., 6., 3., 7., 4., 5., 3., 6., 2., 6.,\n",
       "       9., 0., 7., 9., 0., 9., 2., 2., 9., 0., 7., 1., 6., 8., 4., 6., 3.,\n",
       "       0., 4., 7., 6., 6., 2., 5., 5., 3., 7., 0., 8., 1., 1., 3., 0., 3.,\n",
       "       2., 6., 3., 0., 4., 6., 8., 5., 3., 6., 2., 0., 4., 1., 9., 9., 5.,\n",
       "       5., 1., 7., 9., 8., 4., 4., 9., 8., 1., 0., 5., 1., 2., 0., 9., 9.,\n",
       "       9., 4., 2., 2., 3., 2., 4., 2., 1., 1., 3., 4., 9., 7., 4., 2., 0.,\n",
       "       3., 6., 2., 7., 8., 8., 9., 1., 1., 4., 3., 5., 8., 1., 2., 3., 1.,\n",
       "       5., 0., 1., 9., 7., 0., 1., 2., 5., 1., 0., 6., 4., 1., 8., 6., 9.,\n",
       "       5., 6., 2., 1., 1., 1., 0., 0., 1., 3., 8., 4., 5., 1., 8., 1., 7.,\n",
       "       5., 6., 2.])"
      ]
     },
     "execution_count": 23,
     "metadata": {},
     "output_type": "execute_result"
    }
   ],
   "source": [
    "%time clf.predict(X_test)"
   ]
  },
  {
   "cell_type": "code",
   "execution_count": 234,
   "metadata": {},
   "outputs": [
    {
     "name": "stdout",
     "output_type": "stream",
     "text": [
      "CPU times: user 9min 35s, sys: 4.61 s, total: 9min 40s\n",
      "Wall time: 9min 41s\n"
     ]
    },
    {
     "data": {
      "text/plain": [
       "array([9, 9, 9, 0, 9, 1, 1, 8, 1, 6, 5, 4, 9, 7, 8, 0, 9, 9, 5, 7, 7, 0,\n",
       "       1, 1, 3, 2, 9, 9, 0, 9, 9, 9, 0, 8, 3, 6, 9, 0, 9, 6, 9, 9, 5, 7,\n",
       "       9, 9, 0, 4, 7, 7, 6, 9, 6, 4, 1, 8, 9, 0, 9, 7, 4, 9, 0, 2, 9, 9,\n",
       "       9, 5, 1, 8, 2, 5, 7, 7, 9, 1, 1, 8, 1, 9, 3, 9, 1, 9, 8, 0, 7, 1,\n",
       "       2, 9, 1, 9, 9, 9, 6, 0, 9, 9, 9, 5, 7, 7, 1, 2, 9, 1, 9, 7, 5, 8,\n",
       "       0, 0, 4, 1, 9, 4, 1, 7, 9, 0, 9, 8, 9, 9, 7, 3, 9, 2, 0, 6, 7, 6,\n",
       "       9, 7, 5, 1, 4, 9, 9, 9, 9, 0, 4, 7, 3, 8, 7, 6, 1, 1, 5, 1, 9, 7,\n",
       "       4, 0, 2, 8, 9, 6, 7, 9, 1, 8, 9, 9, 1, 1, 1, 9, 9, 1, 8, 0, 1, 9,\n",
       "       9, 7, 8, 8, 9, 9, 9, 0, 0, 9, 1, 9, 6, 1, 2, 6, 9, 9, 9, 9, 4, 3,\n",
       "       8, 1, 0, 9, 2, 4, 3, 7, 3, 0, 1, 9, 9, 6, 2, 8, 9, 3, 9, 9, 3, 7,\n",
       "       9, 1, 1, 9, 6, 9, 9, 1, 8, 5, 9, 1, 9, 4, 8, 7, 1, 1, 0, 0, 1, 0,\n",
       "       9, 5, 7, 2, 1, 8, 9, 0, 9, 4, 1, 7, 9, 1, 8, 1, 9, 9, 5, 6, 9, 1,\n",
       "       1, 3, 8, 1, 7, 0, 6, 9, 9, 9, 9, 7, 2, 9, 5, 9, 9, 9, 4, 9, 8, 7,\n",
       "       6, 0, 2, 1, 1, 9, 9, 0, 4, 9, 6, 9, 9, 1, 6, 9, 0, 9, 8, 1, 8, 9,\n",
       "       3, 3, 5, 4, 9, 9, 9, 1, 9, 9, 9, 9, 7, 1, 0, 1, 1, 7, 5, 1, 9, 1,\n",
       "       2, 8, 9, 8, 4, 9, 6, 9, 0, 4, 9, 6, 0, 9, 4, 9, 9, 2, 9, 9, 9, 9,\n",
       "       0, 0, 9, 1, 9, 8, 6, 7, 9, 8, 8, 0, 9, 9, 9, 3, 9, 9, 9, 1, 1, 8,\n",
       "       9, 1, 6, 6, 8, 8, 1, 9, 8, 1, 9, 1, 0, 0, 0, 7, 9, 0, 4, 0, 9, 6,\n",
       "       9, 7, 6, 5, 2, 7, 1, 1, 7, 8, 1, 9, 9, 0, 1, 9, 1, 7, 1, 1, 9, 1,\n",
       "       6, 9, 9, 6, 3, 6, 9, 1, 1, 8, 9, 6, 2, 9, 1, 8, 9, 4, 6, 0, 4, 9,\n",
       "       0, 7, 1, 9, 2, 8, 9, 6, 2, 9, 7, 7, 1, 9, 5, 6, 8, 0, 0, 7, 6, 9,\n",
       "       5, 4, 1, 2, 0, 9, 9, 9, 6, 9, 9, 7, 9, 8, 9, 1, 0, 9, 9, 0, 9, 0,\n",
       "       9, 4, 9, 9, 9, 1, 1, 6, 4, 9, 9, 9, 6, 6, 7, 9, 9, 9, 4, 0, 9, 9,\n",
       "       6, 1, 2, 7, 9, 9, 0, 2, 9, 0, 7, 2, 8, 9, 0, 9, 1, 3, 1, 6, 4, 1,\n",
       "       9, 6, 8, 0, 9, 1, 3, 5, 1, 1, 0, 1, 9, 1, 3, 8, 8, 1, 9, 6, 8, 9,\n",
       "       4, 9, 3, 9, 2, 9, 8, 7, 1, 9, 5, 6, 8, 6, 1, 9, 9, 9, 9, 1, 9, 7,\n",
       "       9, 9, 9, 2, 7, 8, 9, 1, 2, 9, 0, 0, 3, 0, 4, 1, 9, 9, 4, 7, 0, 7,\n",
       "       9, 9, 4, 6, 5, 0, 0, 6, 9, 9, 9, 6, 7, 9, 8, 9, 9, 9, 7, 6, 7, 6,\n",
       "       0, 9, 9, 1, 1, 9, 4, 9, 7, 1, 9, 1, 6, 1, 9, 8, 7, 9, 9, 6, 9, 9,\n",
       "       1, 9, 9, 1, 9, 1, 4, 9, 9, 3, 8, 5, 7, 9, 7, 9, 0, 9, 5, 9, 9, 9,\n",
       "       9, 0, 2, 6, 6, 1, 9, 9, 5, 5, 9, 8, 9, 2, 1, 4, 0, 1, 9, 9, 1, 8,\n",
       "       9, 9, 9, 9, 9, 0, 9, 8, 7, 9, 7, 9, 7, 1, 9, 9, 6, 9])"
      ]
     },
     "execution_count": 234,
     "metadata": {},
     "output_type": "execute_result"
    }
   ],
   "source": [
    "%time my_clf.predict(X_test)"
   ]
  },
  {
   "cell_type": "code",
   "execution_count": 25,
   "metadata": {},
   "outputs": [
    {
     "name": "stdout",
     "output_type": "stream",
     "text": [
      "CPU times: user 1min 13s, sys: 1.44 s, total: 1min 15s\n",
      "Wall time: 1min 17s\n"
     ]
    },
    {
     "data": {
      "text/plain": [
       "array([[0. , 0. , 0. , ..., 0. , 0. , 0. ],\n",
       "       [0. , 0. , 0. , ..., 0. , 1. , 0. ],\n",
       "       [0. , 0. , 0. , ..., 0. , 0. , 0. ],\n",
       "       ...,\n",
       "       [0. , 0. , 0. , ..., 0. , 0. , 0. ],\n",
       "       [0. , 0. , 0. , ..., 0. , 0. , 0. ],\n",
       "       [0. , 0. , 0.5, ..., 0. , 0. , 0. ]])"
      ]
     },
     "execution_count": 25,
     "metadata": {},
     "output_type": "execute_result"
    }
   ],
   "source": [
    "%time clf.predict_proba(X_test)"
   ]
  },
  {
   "cell_type": "code",
   "execution_count": 26,
   "metadata": {},
   "outputs": [
    {
     "ename": "KeyboardInterrupt",
     "evalue": "",
     "output_type": "error",
     "traceback": [
      "\u001b[0;31m---------------------------------------------------------------------------\u001b[0m",
      "\u001b[0;31mKeyboardInterrupt\u001b[0m                         Traceback (most recent call last)",
      "\u001b[0;32m<timed eval>\u001b[0m in \u001b[0;36m<module>\u001b[0;34m()\u001b[0m\n",
      "\u001b[0;32m<ipython-input-5-a8ddbd71da5b>\u001b[0m in \u001b[0;36mpredict_proba\u001b[0;34m(self, X)\u001b[0m\n\u001b[1;32m     74\u001b[0m     \u001b[0;32mdef\u001b[0m \u001b[0mpredict_proba\u001b[0m\u001b[0;34m(\u001b[0m\u001b[0mself\u001b[0m\u001b[0;34m,\u001b[0m \u001b[0mX\u001b[0m\u001b[0;34m)\u001b[0m\u001b[0;34m:\u001b[0m\u001b[0;34m\u001b[0m\u001b[0m\n\u001b[1;32m     75\u001b[0m         \u001b[0;32mif\u001b[0m \u001b[0mself\u001b[0m\u001b[0;34m.\u001b[0m\u001b[0malgorithm\u001b[0m \u001b[0;34m==\u001b[0m \u001b[0;34m'brute'\u001b[0m\u001b[0;34m:\u001b[0m\u001b[0;34m\u001b[0m\u001b[0m\n\u001b[0;32m---> 76\u001b[0;31m             \u001b[0;32mreturn\u001b[0m \u001b[0mself\u001b[0m\u001b[0;34m.\u001b[0m\u001b[0mpredict_proba_brute\u001b[0m\u001b[0;34m(\u001b[0m\u001b[0mX\u001b[0m\u001b[0;34m)\u001b[0m\u001b[0;34m\u001b[0m\u001b[0m\n\u001b[0m\u001b[1;32m     77\u001b[0m         \u001b[0;32melif\u001b[0m \u001b[0mself\u001b[0m\u001b[0;34m.\u001b[0m\u001b[0malgorithm\u001b[0m \u001b[0;34m==\u001b[0m \u001b[0;34m'kd_tree'\u001b[0m\u001b[0;34m:\u001b[0m\u001b[0;34m\u001b[0m\u001b[0m\n\u001b[1;32m     78\u001b[0m             \u001b[0;32mreturn\u001b[0m \u001b[0mself\u001b[0m\u001b[0;34m.\u001b[0m\u001b[0mpredict_proba_kd_tree\u001b[0m\u001b[0;34m(\u001b[0m\u001b[0mX\u001b[0m\u001b[0;34m)\u001b[0m\u001b[0;34m\u001b[0m\u001b[0m\n",
      "\u001b[0;32m<ipython-input-5-a8ddbd71da5b>\u001b[0m in \u001b[0;36mpredict_proba_brute\u001b[0;34m(self, X)\u001b[0m\n\u001b[1;32m     39\u001b[0m         \u001b[0mtest_labels\u001b[0m \u001b[0;34m=\u001b[0m \u001b[0mnp\u001b[0m\u001b[0;34m.\u001b[0m\u001b[0marray\u001b[0m\u001b[0;34m(\u001b[0m\u001b[0;34m[\u001b[0m\u001b[0;34m]\u001b[0m\u001b[0;34m)\u001b[0m\u001b[0;34m\u001b[0m\u001b[0m\n\u001b[1;32m     40\u001b[0m         \u001b[0;32mfor\u001b[0m \u001b[0mpoint\u001b[0m \u001b[0;32min\u001b[0m \u001b[0mX\u001b[0m\u001b[0;34m:\u001b[0m\u001b[0;34m\u001b[0m\u001b[0m\n\u001b[0;32m---> 41\u001b[0;31m             \u001b[0mstat\u001b[0m \u001b[0;34m=\u001b[0m \u001b[0mself\u001b[0m\u001b[0;34m.\u001b[0m\u001b[0m_get_stat\u001b[0m\u001b[0;34m(\u001b[0m\u001b[0mpoint\u001b[0m\u001b[0;34m)\u001b[0m\u001b[0;34m\u001b[0m\u001b[0m\n\u001b[0m\u001b[1;32m     42\u001b[0m             \u001b[0mtest_labels\u001b[0m \u001b[0;34m=\u001b[0m \u001b[0mnp\u001b[0m\u001b[0;34m.\u001b[0m\u001b[0mappend\u001b[0m\u001b[0;34m(\u001b[0m\u001b[0mtest_labels\u001b[0m\u001b[0;34m,\u001b[0m \u001b[0mstat\u001b[0m\u001b[0;34m)\u001b[0m\u001b[0;34m\u001b[0m\u001b[0m\n\u001b[1;32m     43\u001b[0m         \u001b[0mtest_labels\u001b[0m\u001b[0;34m.\u001b[0m\u001b[0mshape\u001b[0m \u001b[0;34m=\u001b[0m \u001b[0;34m(\u001b[0m\u001b[0mX\u001b[0m\u001b[0;34m.\u001b[0m\u001b[0mshape\u001b[0m\u001b[0;34m[\u001b[0m\u001b[0;36m0\u001b[0m\u001b[0;34m]\u001b[0m\u001b[0;34m,\u001b[0m \u001b[0mself\u001b[0m\u001b[0;34m.\u001b[0m\u001b[0mnumber_of_classes\u001b[0m\u001b[0;34m)\u001b[0m\u001b[0;34m\u001b[0m\u001b[0m\n",
      "\u001b[0;32m<ipython-input-5-a8ddbd71da5b>\u001b[0m in \u001b[0;36m_get_stat\u001b[0;34m(self, point)\u001b[0m\n\u001b[1;32m     24\u001b[0m             test_dist = [[np.linalg.norm(point - self.train_x[i]),\n\u001b[1;32m     25\u001b[0m                          self.train_y[i]] for i in\n\u001b[0;32m---> 26\u001b[0;31m                          range(self.train_x.shape[0])]\n\u001b[0m\u001b[1;32m     27\u001b[0m             \u001b[0mstat\u001b[0m \u001b[0;34m=\u001b[0m \u001b[0;34m[\u001b[0m\u001b[0;36m0\u001b[0m \u001b[0;32mfor\u001b[0m \u001b[0mi\u001b[0m \u001b[0;32min\u001b[0m \u001b[0mrange\u001b[0m\u001b[0;34m(\u001b[0m\u001b[0mself\u001b[0m\u001b[0;34m.\u001b[0m\u001b[0mnumber_of_classes\u001b[0m\u001b[0;34m)\u001b[0m\u001b[0;34m]\u001b[0m\u001b[0;34m\u001b[0m\u001b[0m\n\u001b[1;32m     28\u001b[0m             \u001b[0;32mfor\u001b[0m \u001b[0md\u001b[0m \u001b[0;32min\u001b[0m \u001b[0msorted\u001b[0m\u001b[0;34m(\u001b[0m\u001b[0mtest_dist\u001b[0m\u001b[0;34m)\u001b[0m\u001b[0;34m[\u001b[0m\u001b[0;36m0\u001b[0m\u001b[0;34m:\u001b[0m\u001b[0mself\u001b[0m\u001b[0;34m.\u001b[0m\u001b[0mn_neighbor\u001b[0m\u001b[0;34m]\u001b[0m\u001b[0;34m:\u001b[0m\u001b[0;34m\u001b[0m\u001b[0m\n",
      "\u001b[0;32m<ipython-input-5-a8ddbd71da5b>\u001b[0m in \u001b[0;36m<listcomp>\u001b[0;34m(.0)\u001b[0m\n\u001b[1;32m     23\u001b[0m     \u001b[0;32mdef\u001b[0m \u001b[0m_get_stat\u001b[0m\u001b[0;34m(\u001b[0m\u001b[0mself\u001b[0m\u001b[0;34m,\u001b[0m \u001b[0mpoint\u001b[0m\u001b[0;34m)\u001b[0m\u001b[0;34m:\u001b[0m\u001b[0;34m\u001b[0m\u001b[0m\n\u001b[1;32m     24\u001b[0m             test_dist = [[np.linalg.norm(point - self.train_x[i]),\n\u001b[0;32m---> 25\u001b[0;31m                          self.train_y[i]] for i in\n\u001b[0m\u001b[1;32m     26\u001b[0m                          range(self.train_x.shape[0])]\n\u001b[1;32m     27\u001b[0m             \u001b[0mstat\u001b[0m \u001b[0;34m=\u001b[0m \u001b[0;34m[\u001b[0m\u001b[0;36m0\u001b[0m \u001b[0;32mfor\u001b[0m \u001b[0mi\u001b[0m \u001b[0;32min\u001b[0m \u001b[0mrange\u001b[0m\u001b[0;34m(\u001b[0m\u001b[0mself\u001b[0m\u001b[0;34m.\u001b[0m\u001b[0mnumber_of_classes\u001b[0m\u001b[0;34m)\u001b[0m\u001b[0;34m]\u001b[0m\u001b[0;34m\u001b[0m\u001b[0m\n",
      "\u001b[0;32m/Library/anaconda3/lib/python3.6/site-packages/numpy/linalg/linalg.py\u001b[0m in \u001b[0;36mnorm\u001b[0;34m(x, ord, axis, keepdims)\u001b[0m\n\u001b[1;32m   2241\u001b[0m \u001b[0;34m\u001b[0m\u001b[0m\n\u001b[1;32m   2242\u001b[0m     \u001b[0;32mif\u001b[0m \u001b[0;32mnot\u001b[0m \u001b[0missubclass\u001b[0m\u001b[0;34m(\u001b[0m\u001b[0mx\u001b[0m\u001b[0;34m.\u001b[0m\u001b[0mdtype\u001b[0m\u001b[0;34m.\u001b[0m\u001b[0mtype\u001b[0m\u001b[0;34m,\u001b[0m \u001b[0;34m(\u001b[0m\u001b[0minexact\u001b[0m\u001b[0;34m,\u001b[0m \u001b[0mobject_\u001b[0m\u001b[0;34m)\u001b[0m\u001b[0;34m)\u001b[0m\u001b[0;34m:\u001b[0m\u001b[0;34m\u001b[0m\u001b[0m\n\u001b[0;32m-> 2243\u001b[0;31m         \u001b[0mx\u001b[0m \u001b[0;34m=\u001b[0m \u001b[0mx\u001b[0m\u001b[0;34m.\u001b[0m\u001b[0mastype\u001b[0m\u001b[0;34m(\u001b[0m\u001b[0mfloat\u001b[0m\u001b[0;34m)\u001b[0m\u001b[0;34m\u001b[0m\u001b[0m\n\u001b[0m\u001b[1;32m   2244\u001b[0m \u001b[0;34m\u001b[0m\u001b[0m\n\u001b[1;32m   2245\u001b[0m     \u001b[0;31m# Immediately handle some default, simple, fast, and common cases.\u001b[0m\u001b[0;34m\u001b[0m\u001b[0;34m\u001b[0m\u001b[0m\n",
      "\u001b[0;31mKeyboardInterrupt\u001b[0m: "
     ]
    }
   ],
   "source": [
    "%time my_clf.predict_proba(X_test)"
   ]
  },
  {
   "cell_type": "code",
   "execution_count": 235,
   "metadata": {},
   "outputs": [
    {
     "data": {
      "text/plain": [
       "0.9628571428571429"
      ]
     },
     "execution_count": 235,
     "metadata": {},
     "output_type": "execute_result"
    }
   ],
   "source": [
    "clf.score(X_test, y_test)"
   ]
  },
  {
   "cell_type": "code",
   "execution_count": 236,
   "metadata": {},
   "outputs": [
    {
     "data": {
      "text/plain": [
       "0.6599999999999999"
      ]
     },
     "execution_count": 236,
     "metadata": {},
     "output_type": "execute_result"
    }
   ],
   "source": [
    "my_clf.score(X_test, y_test)"
   ]
  },
  {
   "cell_type": "markdown",
   "metadata": {},
   "source": [
    "Задание 4"
   ]
  },
  {
   "cell_type": "code",
   "execution_count": null,
   "metadata": {},
   "outputs": [],
   "source": [
    "clf = KNeighborsClassifier(n_neighbors=2, algorithm='kd_tree')\n",
    "my_clf = MyKNeighborsClassifier(n_neighbors=2, algorithm='kd_tree')"
   ]
  },
  {
   "cell_type": "code",
   "execution_count": null,
   "metadata": {},
   "outputs": [],
   "source": [
    "X_train, X_test, y_train, y_test = train_test_split(mnist.data, mnist.target, test_size=0.01, stratify=mnist.target)"
   ]
  },
  {
   "cell_type": "code",
   "execution_count": null,
   "metadata": {},
   "outputs": [],
   "source": [
    "%time clf.fit(X_train, y_train)"
   ]
  },
  {
   "cell_type": "code",
   "execution_count": null,
   "metadata": {},
   "outputs": [],
   "source": [
    "%time my_clf.fit(X_train, y_train)"
   ]
  },
  {
   "cell_type": "code",
   "execution_count": null,
   "metadata": {},
   "outputs": [],
   "source": [
    "%time clf.predict(X_test)"
   ]
  },
  {
   "cell_type": "code",
   "execution_count": null,
   "metadata": {},
   "outputs": [],
   "source": [
    "%time my_clf.predict(X_test)"
   ]
  },
  {
   "cell_type": "code",
   "execution_count": null,
   "metadata": {},
   "outputs": [],
   "source": [
    "%time clf.predict_proba(X_test)"
   ]
  },
  {
   "cell_type": "code",
   "execution_count": null,
   "metadata": {},
   "outputs": [],
   "source": [
    "%time my_clf.predict_proba(X_test)"
   ]
  },
  {
   "cell_type": "code",
   "execution_count": null,
   "metadata": {},
   "outputs": [],
   "source": [
    "clf.score(X_test, y_test)"
   ]
  },
  {
   "cell_type": "code",
   "execution_count": null,
   "metadata": {},
   "outputs": [],
   "source": [
    "my_clf.score(X_test, y_test)"
   ]
  },
  {
   "cell_type": "markdown",
   "metadata": {},
   "source": [
    "Задание 5"
   ]
  },
  {
   "cell_type": "code",
   "execution_count": null,
   "metadata": {},
   "outputs": [],
   "source": [
    "# seaborn - библиотека для визуализации данных, обёртка над matplotlib\n",
    "# matplotlib - библиотека для 2d графики\n",
    "# train_test_split - функция из sklearn, перемешивает данные разделяет их на обучающую и тестирующую выборки\n",
    "\n",
    "# Pipelin%load_ext e (from sklearn.pipeline import Pipeline) - синтаксическая конструкция \n",
    "# для загрузки расширенй в юпитер\n",
    "\n",
    "# StandardScaler (from sklearn.preprocessing import StandardScaler) - \n",
    "# класс из sklearn для статистичкской стандартизации фичей. Каждая фича обрабатывается независимо\n",
    "\n",
    "# ClassifierMixin - класс из sklearn, содержащий метод score, который возвращает среднюю точность данных\n",
    "# NeighborsBase - базовый класс sklearn для оценок ближайших соседей\n",
    "# KNeighborsMixin - класс из sklearn для поиска k ближайших соседей\n",
    "# SupervisedIntegerMixin - класс sklearn, используемый для рандомизации в fit методе в классе NeighborsBase"
   ]
  }
 ],
 "metadata": {
  "kernelspec": {
   "display_name": "Python 3",
   "language": "python",
   "name": "python3"
  },
  "language_info": {
   "codemirror_mode": {
    "name": "ipython",
    "version": 3
   },
   "file_extension": ".py",
   "mimetype": "text/x-python",
   "name": "python",
   "nbconvert_exporter": "python",
   "pygments_lexer": "ipython3",
   "version": "3.6.5"
  }
 },
 "nbformat": 4,
 "nbformat_minor": 2
}
