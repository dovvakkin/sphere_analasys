{
 "cells": [
  {
   "cell_type": "markdown",
   "metadata": {},
   "source": [
    "# Алгоритмы интеллектуальной обработки больших объемов данных\n",
    "## Домашнее задание №5 - Алгоритмы кластеризации"
   ]
  },
  {
   "cell_type": "markdown",
   "metadata": {},
   "source": [
    "###### <hr\\>\n",
    "**Общая информация**\n",
    "\n",
    "**Срок сдачи:** 17 декабря 2018, 06:00 <br\\>\n",
    "**Штраф за опоздание:** -2 балла после 06:00 17 декабря, -4 балла после 06:00 24 декабря, -6 баллов после 06:00 31 декабря -8 баллов  после 06:00 7 января\n",
    "\n",
    "\n",
    "Используйте данный Ipython Notebook при оформлении домашнего задания.\n",
    "<hr\\>"
   ]
  },
  {
   "cell_type": "markdown",
   "metadata": {},
   "source": [
    "**Из чего состоит задание:**\n",
    "\n",
    "###### Теоретические вопросы (2 балла)\n",
    "\n",
    "###### Реализация алгоритма кластеризации (6 баллов)\n",
    "\n",
    "###### Боевое применение (2 балла)\n",
    "\n",
    "\n"
   ]
  },
  {
   "cell_type": "markdown",
   "metadata": {},
   "source": [
    "**Штрафные баллы:**\n",
    "\n",
    "1. Невыполнение PEP8 -1 балл\n",
    "2. Отсутствие фамилии в имени скрипта (скрипт должен называться по аналогии со stroykova_hw4.ipynb) -1 балл\n",
    "3. Все строчки должны быть выполнены. Нужно, чтобы output команды можно было увидеть уже в git'е. В противном случае -1 балл\n",
    "4. При оформлении ДЗ нужно пользоваться данным файлом в качестве шаблона. Не нужно удалять и видоизменять написанный код и текст. В противном случае -1 балл"
   ]
  },
  {
   "cell_type": "markdown",
   "metadata": {},
   "source": [
    "# Определяем, что вам досталось"
   ]
  },
  {
   "cell_type": "markdown",
   "metadata": {},
   "source": [
    "Укажите свою фамилию на русском языке в поле ниже."
   ]
  },
  {
   "cell_type": "code",
   "execution_count": 7,
   "metadata": {},
   "outputs": [
    {
     "name": "stdout",
     "output_type": "stream",
     "text": [
      "Имплементируйте алгоритм кластеризации Hierarchical clustering с поддержкой single-linkage, complete-linkage, average-linkage (параметры - число кластеров, linkage)\n"
     ]
    }
   ],
   "source": [
    "import hashlib\n",
    "\n",
    "def lucky_hash(text):\n",
    "    return int(hashlib.md5(text.encode('utf-8')).hexdigest()[:8], 16) \n",
    "\n",
    "USER_NAME = u\"Кожевникoв\".lower()\n",
    "\n",
    "ALGORITHMS = [\n",
    "    u\"Gaussian Mixture Model с использованием maximum a-posteriori для выбора кластера (параметр - число кластеров)\",\n",
    "    u\"Hierarchical clustering с поддержкой single-linkage, complete-linkage, average-linkage (параметры - число кластеров, linkage)\",]\n",
    "\n",
    "print (\"Имплементируйте алгоритм кластеризации %s\"\\\n",
    "% (\n",
    "    ALGORITHMS[lucky_hash(USER_NAME[::-1]) % 2]\n",
    ") )"
   ]
  },
  {
   "cell_type": "markdown",
   "metadata": {},
   "source": [
    "Не стоит переживать из-за Вашего варианта. Технически оба алгоритма несложно реализовать.  EM алгоритма бояться не стоит, Вам будет нужно просто реализовать уже выведенные формулы для E и M шагов."
   ]
  },
  {
   "cell_type": "code",
   "execution_count": 9,
   "metadata": {},
   "outputs": [
    {
     "name": "stdout",
     "output_type": "stream",
     "text": [
      "Populating the interactive namespace from numpy and matplotlib\n"
     ]
    }
   ],
   "source": [
    "import time\n",
    "import pandas as pd\n",
    "import pylab as pl\n",
    "import numpy as np\n",
    "import scipy.spatial as ss\n",
    "import sklearn.cluster as sc\n",
    "import sklearn.manifold as sm\n",
    "import sklearn.datasets as ds\n",
    "import sklearn.metrics as smt\n",
    "from sklearn.mixture import GaussianMixture\n",
    "from sklearn.cluster import AgglomerativeClustering\n",
    "\n",
    "import matplotlib.pyplot as plt\n",
    "\n",
    "%matplotlib inline\n",
    "\n",
    "plt.style.use('ggplot')\n",
    "plt.rcParams['figure.figsize'] = (12,5)\n",
    "\n",
    "# Plotting config\n",
    "%pylab inline"
   ]
  },
  {
   "cell_type": "markdown",
   "metadata": {},
   "source": [
    "# Теоретическое введение\n"
   ]
  },
  {
   "cell_type": "markdown",
   "metadata": {},
   "source": [
    "Основная задача кластерного анализа — разбиение исходного набора объектов на группы (кластеры) таким образом, чтобы объекты в группе были похожи друг на друга, а объекты из разных групп - отличались. \n",
    "\n",
    "В этой работе мы будем реализовывать один из двух популярных методов кластеризации: разделение смеси нормальных распределений или агломеративную кластеризацию. "
   ]
  },
  {
   "cell_type": "markdown",
   "metadata": {
    "collapsed": true
   },
   "source": [
    "## Смесь нормальных распределений\n",
    "\n"
   ]
  },
  {
   "cell_type": "markdown",
   "metadata": {
    "collapsed": true
   },
   "source": [
    "Предполагаем, что наши данные порождены смесью $k$ нормальных распределений, то есть \n",
    "\n",
    "$$ p(\\mathbf{x}) = \\sum_k \\pi_k \\mathcal{N}(\\mathbf{x} | \\mathbf{\\mu}_k, \\mathbf{\\Sigma}_k) $$,\n",
    "\n",
    "\n",
    "где $\\mathcal{N}$ - многомерное нормальное распределение размерности ${D}$:"
   ]
  },
  {
   "cell_type": "markdown",
   "metadata": {
    "collapsed": true
   },
   "source": [
    "$$\\mathcal{N(\\mathbf{x} | \\mathbf{\\mu}, \\mathbf{\\Sigma}}) = \\frac{1}{(2 \\pi)^{D/2}} \\frac{1}{|\\mathbf{\\Sigma}|^{1/2}} \\exp \\left\\{-\\frac{1}{2}(\\mathbf{x} - \\mathbf{\\mu})^T \\mathbf{\\Sigma^{-1}} (\\mathbf{x} - \\mathbf{\\mu})\\right\\}$$\n",
    "\n",
    "**Параметры**  \n",
    "\n",
    "\n",
    "${D}$-мерный вектор средних\n",
    "\n",
    "$$\\mathbf{\\mu}$$\n",
    "\n",
    "$D \\times D$-мерная матрица ковариации   (симметричная)\n",
    "\n",
    "\n",
    "$$\\mathbf{\\Sigma} = E[(\\mathbf{x} - \\mathbf{\\mu})(\\mathbf{x} - \\mathbf{\\mu})^T]$$\n",
    "\n"
   ]
  },
  {
   "cell_type": "markdown",
   "metadata": {
    "collapsed": true
   },
   "source": [
    "Необходимо оценить параметры $\\pi_k, \\mathbf{\\mu_k}, \\mathbf{\\Sigma_k} $ для всех компонент смеси.  Сделать это можно с помощью EM алгоритма - алгоритма, который находит оценку максимального правдоподобия в задаче со скрытыми переменными. "
   ]
  },
  {
   "cell_type": "markdown",
   "metadata": {},
   "source": [
    "## Expectation Maximization\n",
    "\n",
    "**I** До цикла проинциализировать случайно  $\\mu_k, \\Sigma_k, \\pi_k$ ($\\pi_k$ должны суммироваться в 1)\n",
    "\n",
    "**E** Expectation: при фиксированных $\\mu_k, \\Sigma_k, \\pi_k$\n",
    "$$\n",
    "p(z_k = 1| x_n ) = \\gamma(z_{nk}) = \\frac{\\pi_k \\mathcal{N} (\\mathbf{x}_n | \\mu_k, \\Sigma_k)}{\\sum_{j=1}^K \\pi_j \\mathcal{N} (\\mathbf{x}_n | \\mu_j, \\Sigma_j)}\n",
    "$$\n",
    "**M** Maximization: при фиксированных $\\gamma(z_{nk})$\n",
    "$$\n",
    "N_k = \\sum_{n=1}^N \\gamma(z_{nk}), \\;\\; \\mu_k = \\frac 1 {N_k} \\sum_{n=1}^N \\gamma(z_{nk}) \\mathbf{x}_n\n",
    "$$\n",
    "$$\n",
    "\\Sigma_k = \\frac 1 {N_k} \\sum_{n=1}^N \\gamma(z_{nk}) (\\mathbf{x}_n - \\mu_k)(\\mathbf{x}_n - \\mu_k)^T\n",
    "$$\n",
    "$$\n",
    "\\pi_k = \\frac{N_k}{N}\n",
    "$$\n",
    "**S** Остановиться при достижении сходимости"
   ]
  },
  {
   "cell_type": "markdown",
   "metadata": {},
   "source": [
    "Номер кластера для $n$ объекта будем брать по принципу maximum a-posteriori, то есть относить объект к тому кластеру, у которого максимальна апостериорная вероятность:\n",
    "$$ k_n =  \\arg\\underset{k}\\max  p(z_k = 1| x_n ) =  \\arg\\underset{k}\\max \\gamma(z_{nk}) $$"
   ]
  },
  {
   "cell_type": "markdown",
   "metadata": {
    "collapsed": true
   },
   "source": [
    "## Агломеративная кластеризация"
   ]
  },
  {
   "cell_type": "markdown",
   "metadata": {},
   "source": [
    "Иерархические алгоритмы кластеризации строят на выборке систему вложенных разбиений.  Наиболее часто испоьзуемые иерархические алгоритмы - агломеративные алгоритмы, которые строят ирархию по восходящей, то есть от момента, когда все элементы являются отдельными кластерами, до того момента, пока вся выборка не станет одним кластером."
   ]
  },
  {
   "cell_type": "markdown",
   "metadata": {},
   "source": [
    "Сам алгоритм описать можно примерно так:\n",
    "\n",
    "* начинаем с ситуации, когда каждый объект - отдельный кластер\n",
    "* на каждом шаге совмещаем два наиболее близких кластера\n",
    "* останавливаемся, когда получаем требуемое количество или единственный кластер"
   ]
  },
  {
   "cell_type": "markdown",
   "metadata": {},
   "source": [
    "\n",
    "В данной работе Вам предлагается реализовать три варианта расстояний между кластерами, по которым Вы определяете пару для слияния: \n",
    "* Single linkage\n",
    "$$ d_{min}(C_i, C_j) = \\min_{\\mathbf{x} \\in C_i, \\mathbf{x}' \\in C_j} \\|\\mathbf{x} -\\mathbf{x}' \\| $$\n",
    "\n",
    "* Complete linkage\n",
    "$$ d_{max}(C_i, C_j) = \\max_{\\mathbf{x} \\in C_i, \\mathbf{x}' \\in C_j} \\|\\mathbf{x} -\\mathbf{x}' \\| $$\n",
    "\n",
    "* Average linkage\n",
    "$$ d_{avg}(C_i, C_j) = \\frac{1}{n_i n_j}\\sum_{\\mathbf{x} \\in C_i}\\sum_{\\mathbf{x}' \\in C_j} \\|\\mathbf{x} -\\mathbf{x}' \\| $$\n",
    "\n",
    "Для простоты будем использовать евклидово расстояние между объектами.\n",
    "\n"
   ]
  },
  {
   "cell_type": "markdown",
   "metadata": {},
   "source": [
    "Для того, чтобы на втором этапе нам не пересчитывать заново расстояния между всеми парами кластеров, можно использовать Формулы Ланса-Вильямса, которые позволяют посчитать расстояние между кластерами после объединения, используя только расстояния между кластерами до объедения.  Таким образом, достаточно будет посчитать расстояния только между всеми одноэлементными кластерами (первый этап), а затем пересчитывать расстояния при их объединении через \n",
    "формулы Ланса-Вильямса. \n",
    "\n",
    "Общая  формула выглядит так:\n",
    "$$ d(C_i \\cup C_j, C_k) = a_i \\cdot d(C_i, C_k) + a_j \\cdot d(C_j, C_k) + b \\cdot d(C_i, C_j) + c \\cdot |d(C_i, C_k) - d(C_j, C_k)|$$\n",
    "\n",
    "Можно показать, что все относительно разумные кластерные расстояния можно описать данной формулой. \n",
    "\n",
    "Для интересущих нас linkage:\n",
    "\n",
    "* single-linkage       $a_i = \\frac{1}{2}, a_j =  \\frac{1}{2}, b = 0, c =  - \\frac{1}{2} $\n",
    "\n",
    "* complete-linkage     $a_i = \\frac{1}{2}, a_j =  \\frac{1}{2}, b = 0, c =   \\frac{1}{2} $\n",
    "\n",
    "* average-linkage       $a_i = \\frac{|C_i|}{|C_i \\cup C_j|}, a_j =  \\frac{|C_j|}{|C_i \\cup C_j|}, b = 0, c = 0 $\n",
    "\n"
   ]
  },
  {
   "cell_type": "markdown",
   "metadata": {},
   "source": [
    "# Теоретические вопросы (2 балла)\n",
    "В этой части Вам будут предложены теоретичские вопросы и задачи по теме. Вы, конечно, можете списать их у своего товарища или найти решение в интернете, но учтите, что они обязательно войдут в теоретический коллоквиум. Лучше разобраться в теме сейчас и успешно ответить на коллоквиуме, чем списать, не разобравшись в материале, и быть терзаемым совестью. \n",
    "\n",
    "\n",
    "Формулы надо оформлять в формате **LaTeX**."
   ]
  },
  {
   "cell_type": "markdown",
   "metadata": {},
   "source": [
    "Задача 1. Сходимость kmeans.\n",
    "\n",
    "Метод kmeans является частным случаем EM алгоритма и наиболее простым в обосновании сходимости. Докажите, что kmeans всегда сходится, и итераций не будет превышать $k^N$, где $k$ $-$ число кластеров, $N$ $-$ число объектов\n",
    "\n",
    "Подсказка: Вам стоит рассмотреть функционал, который минимизирует алгоритм, и подумать, как он изменяется на E шаге и на M шаге.\n",
    "\n"
   ]
  },
  {
   "cell_type": "markdown",
   "metadata": {},
   "source": [
    "***Ваше решение здесь***"
   ]
  },
  {
   "cell_type": "markdown",
   "metadata": {},
   "source": [
    "Задача 2. Сходимость EM.\n",
    "\n",
    "Разобравшись со сходимостью kmeans, можно догадаться и до ответа про EM алгоритм.\n",
    "\n",
    "При каком условии на правдоподобие системы EM алгоритм будет  сходиться?\n",
    "\n"
   ]
  },
  {
   "cell_type": "markdown",
   "metadata": {},
   "source": [
    "***Ваше решение здесь***"
   ]
  },
  {
   "cell_type": "markdown",
   "metadata": {},
   "source": [
    "Задача 3. Формулы Ланса-Вильямса.\n",
    "\n",
    "Формулы Ланса-Вильямса крайне удобны для быстрого пересчта расстояний в агломеративной кластеризации. Давайте докажем  формулы для single и complete linkage. \n",
    "\n",
    "Докажите, что:\n",
    "\n",
    "$d_{\\min}(U \\cup V, S) = \\frac{1}{2} d_{\\min}(U, S) + \\frac{1}{2} d_{\\min}(V, S)  - \\frac{1}{2} | d_{\\min}(U, S) - d_{\\min}(V, S) |  $\n",
    "\n",
    "\n",
    "$d_{\\max}(U \\cup V, S) = \\frac{1}{2} d_{\\max}(U, S) + \\frac{1}{2} d_{\\max}(V, S)  + \\frac{1}{2} | d_{\\max}(U, S) - d_{\\max}(V, S) |  $\n",
    "\n",
    "\n"
   ]
  },
  {
   "cell_type": "markdown",
   "metadata": {},
   "source": [
    "***Ваше решение здесь***"
   ]
  },
  {
   "cell_type": "markdown",
   "metadata": {},
   "source": [
    "# Реализация алгоритма кластеризации  (6 баллов)"
   ]
  },
  {
   "cell_type": "markdown",
   "metadata": {},
   "source": [
    "Алгоритм кластеризации должен удовлетворять следующему интерфейсу. Конструктор принимает набор параметров, необходимых для работы алгоритма кластеризации. Метод `fit` подсчитывает параметры модели и возвращает `self`. Метод `predict` возвращает вектор с индексами кластеров для поданных в него объектов `x`. "
   ]
  },
  {
   "cell_type": "code",
   "execution_count": 3,
   "metadata": {},
   "outputs": [],
   "source": [
    "from sklearn.base import BaseEstimator, ClusterMixin\n",
    "\n",
    "class Clustering(BaseEstimator, ClusterMixinn_clusters=2, affinity=’euclidean’, memory=None, connectivity=None, compute_full_tree=’auto’, linkage=’ward’, pooling_func=’deprecated’):\n",
    "    \"\"\"\n",
    "    Implement clustering algorithm according \n",
    "    \"\"\"\n",
    "    \n",
    "    def distance_matrix(pts):\n",
    "        \"\"\"Returns matrix of pairwise Euclidean distances.\"\"\"\n",
    "        return np.sum((pts[None,:] - pts[:, None])**2, -1)**0.5\n",
    "    \n",
    "    # reset elems's clusters after sum\n",
    "    def reset_clust_elems(self, first, second):\n",
    "        for i in range(self.clust_elems):\n",
    "            if i == second:\n",
    "                self.clust_elems[i] = first\n",
    "            if i > second:\n",
    "                self.clust_elems[i] -= 1\n",
    "    \n",
    "    def new_distance_matrix():\n",
    "        ind = np.unravel_index(np.argmin(self.dist_mx, axis=None), \\\n",
    "                               dist_mx.shape)\n",
    "        first = min(ind)\n",
    "        second = max(ind)\n",
    "        \n",
    "        self.reset_clust_elems(first, second)\n",
    "        \n",
    "        new_mx = \n",
    "        for i in range(dist_mx.shape[0]):\n",
    "            for j in range(dist_mx.shape[0]):\n",
    "                \n",
    "    def single_dist():\n",
    "        pass\n",
    "    \n",
    "    def complete_dist():\n",
    "        pass\n",
    "    \n",
    "    def average_dist():\n",
    "        pass\n",
    "    \n",
    "    def __init__(self, **kwargs):\n",
    "        \"\"\"\n",
    "        Please add necessary algoritm parameters to class constructor.\n",
    "        \"\"\"\n",
    "        self.linkage = linkage\n",
    "        self.affinity = affinity\n",
    "        self.k = ClusterMixinn_clusters\n",
    "        \n",
    "        if linkage == 'single-linkage':\n",
    "            self.dist = self.single_dist\n",
    "        elif linkage == 'complete-linkage':\n",
    "            self.dist = self.complete_dist\n",
    "        else:\n",
    "            self.dist = self.average_dist\n",
    "    \n",
    "    \n",
    "    def fit(self, x, y=None):\n",
    "        \"\"\"\n",
    "        Use data matrix x to compute model parameters\n",
    "        \"\"\"\n",
    "        self.clust_elems = np.arange(x.shape[0])  # what is elem's cluster\n",
    "        self.n = x.shape[0]\n",
    "        self.x_train = x\n",
    "        \n",
    "        self.dist_mx = distance_matrix(x)\n",
    "        self.dist_mx[self.dist_mx == 0] = np.inf\n",
    "        \n",
    "        \n",
    "    \n",
    "    def predict(self, x):\n",
    "        \"\"\"\n",
    "        Using computed model parameters predict cluster\n",
    "        for all objects from x\n",
    "        \"\"\"\n",
    "        return [random.randint(0,5) for r in xrange(self.x_len)]\n",
    "    "
   ]
  },
  {
   "cell_type": "markdown",
   "metadata": {},
   "source": [
    "\n",
    "+Сначала проверим реализованный алгоритм кластеризации на классическом наборе данных [Iris](http://www.wikiwand.com/en/Iris_flower_data_set). Загрузим данные (они включены в библиотеку sklearn) и посмотрим на то, как они выглядят в двух проекциях (для простоты используем 2 класса из 3)."
   ]
  },
  {
   "cell_type": "code",
   "execution_count": 4,
   "metadata": {},
   "outputs": [
    {
     "data": {
      "image/png": "[encoded data removed]",
      "text/plain": [
       "<matplotlib.figure.Figure at 0x108791400>"
      ]
     },
     "metadata": {},
     "output_type": "display_data"
    }
   ],
   "source": [
    "iris = ds.load_iris()\n",
    "x_iris = iris.data[:100]\n",
    "y_iris = iris.target[:100]\n",
    "\n",
    "pl.figure(figsize=(10, 5))\n",
    "\n",
    "pl.subplot(1, 2, 1)\n",
    "pl.scatter(x_iris[:, 0], x_iris[:, 1], c=y_iris, cmap=pl.cm.PuOr, lw=0, s=30)\n",
    "plt.xlabel('Sepal length')\n",
    "plt.ylabel('Sepal width')\n",
    "\n",
    "pl.subplot(1, 2, 2)\n",
    "pl.scatter(x_iris[:, 2], x_iris[:, 3], c=y_iris, cmap=pl.cm.PuOr, lw=0, s=30)\n",
    "plt.xlabel('Petal length')\n",
    "plt.ylabel('Petal width')\n",
    "pl.show()"
   ]
  },
  {
   "cell_type": "markdown",
   "metadata": {},
   "source": [
    "Видно, что классы разделяются, поэтому можно надеяться, что наш алгоритм \"найдет\" кластеры, соответствующие исходным классам. Результат работы реализованного алгоритма кластеризации предлагается сравнить с эталонной кластеризацией. Для этого предлагается изучить метрику ([adjusted rand score](http://scikit-learn.org/stable/modules/generated/sklearn.metrics.adjusted_rand_score.html)). В случае если значение этой метрики отличается от 1, предлагается поработать над улучшением реализации своего алгоритма."
   ]
  },
  {
   "cell_type": "code",
   "execution_count": 5,
   "metadata": {},
   "outputs": [
    {
     "name": "stdout",
     "output_type": "stream",
     "text": [
      "Adjusted Rand index for iris is: 0.00\n"
     ]
    }
   ],
   "source": [
    "# pred_iris = Clustering().fit_predict(x_iris)\n",
    "pred_iris = [ 0 ] * len(y_iris)\n",
    "print (\"Adjusted Rand index for iris is: %.2f\" % smt.adjusted_rand_score(y_iris, pred_iris))"
   ]
  },
  {
   "cell_type": "code",
   "execution_count": 6,
   "metadata": {},
   "outputs": [
    {
     "name": "stdout",
     "output_type": "stream",
     "text": [
      "GMM score 1.0. GMM time 0.029532194137573242. AGGL score 1.0. AGGL time 0.034522056579589844\n"
     ]
    }
   ],
   "source": [
    "# Давайте проверим, как справляются sklearn реализации\n",
    "sklearn_gmm = GaussianMixture(n_components=2)\n",
    "gmm_t0 = time.time()\n",
    "sklearn_gmm.fit(x_iris)\n",
    "gmm_diff = time.time() - gmm_t0\n",
    "gmm_score = smt.adjusted_rand_score(y_iris, sklearn_gmm.predict(x_iris))\n",
    "\n",
    "sklearn_aggl = AgglomerativeClustering(n_clusters=2)\n",
    "aggl_t0 = time.time()\n",
    "aggl_pred = sklearn_aggl.fit_predict(x_iris)\n",
    "aggl_diff = time.time() - aggl_t0\n",
    "aggl_score = smt.adjusted_rand_score(y_iris, aggl_pred)\n",
    "print (\"GMM score {}. GMM time {}. AGGL score {}. AGGL time {}\".format(gmm_score, gmm_diff, aggl_score, aggl_diff))"
   ]
  },
  {
   "cell_type": "markdown",
   "metadata": {},
   "source": [
    "Сверьте Ваш алгоритм с этими числами. Уверен, что у Вас получится не хуже!"
   ]
  },
  {
   "cell_type": "markdown",
   "metadata": {
    "collapsed": true
   },
   "source": [
    "# Боевое применение (2  балла)\n"
   ]
  },
  {
   "cell_type": "markdown",
   "metadata": {
    "collapsed": true
   },
   "source": [
    "Алгоритмы кластеризации прекрасны тем, что они позволяют быстро понять, как устроены наши данные. Давайте применим Ваш алгоритм для анализа реальной задачи!"
   ]
  },
  {
   "cell_type": "markdown",
   "metadata": {},
   "source": [
    "Важное замечание: в этой части задания студенту самому предлагается разобраться с данными и их форматом в качестве полезного упраженения. Не принимайте это близко к сердцу :)"
   ]
  },
  {
   "cell_type": "markdown",
   "metadata": {},
   "source": [
    "Ввозьмем датасет различных стран.  \n",
    "Данные нужно скачать тут https://data.worldbank.org/data-catalog/world-development-indicators.   \n"
   ]
  },
  {
   "cell_type": "markdown",
   "metadata": {},
   "source": [
    "Подход следующий: фиксируем год, для каждой страны берём индикаторы по зафиксированному году, кластеризуем по индикаторам. \n",
    "Разбиение должно быть объяснимым, в противном случае, скорее всего нужно лучше настроить параметры кластеризации.   \n",
    "\n",
    "Необходимо показать, какие страны попали в общий кластер в и объяснить из-за каких признаков это произошло. Если страны были в одном кластере, а спустя несколько лет разъехались по разным кластерам, попробуйте это объяснить. "
   ]
  },
  {
   "cell_type": "code",
   "execution_count": 7,
   "metadata": {
    "collapsed": true
   },
   "outputs": [],
   "source": [
    "# Место для Вашего кластерного анализа"
   ]
  },
  {
   "cell_type": "code",
   "execution_count": null,
   "metadata": {
    "collapsed": true
   },
   "outputs": [],
   "source": []
  },
  {
   "cell_type": "code",
   "execution_count": 8,
   "metadata": {
    "collapsed": true
   },
   "outputs": [],
   "source": [
    "# Не переживайте, мне тоже было тяжело разобраться с данными"
   ]
  },
  {
   "cell_type": "markdown",
   "metadata": {},
   "source": [
    "# Контрольные вопросы\n",
    "Постарайтесь максимально развернуто и честно ответить на вопросы. Они охватывают тему алгоритмов кластеризации и скорее нужны преподавателям, чтобы понимать, что именно Вы усвоили плохо. Надеюсь, они подскажут, что именно в теме Вы не понимаете или наоборот порадают, что Вы все знаете ^_^"
   ]
  },
  {
   "cell_type": "markdown",
   "metadata": {},
   "source": [
    "* Опишите, пожалуйста, для каких прикладных задач Вы бы стали использовать методы кластеризации?"
   ]
  },
  {
   "cell_type": "markdown",
   "metadata": {},
   "source": [
    "***Ваше ответ здесь***"
   ]
  },
  {
   "cell_type": "markdown",
   "metadata": {},
   "source": [
    "* Какие преимущества и недостатки Вы видите у следуюших алгоритмов кластеризации: kmeans, dbscan, агломеративная кластеризация?"
   ]
  },
  {
   "cell_type": "markdown",
   "metadata": {},
   "source": [
    "***Ваше ответ здесь***"
   ]
  },
  {
   "cell_type": "markdown",
   "metadata": {},
   "source": [
    "* На лекции было показано, что EM алгоритм находит оценку максимального правдоподобия в задаче со сккрытыми переменными. Из курса мат. статистики Вы можете знать, оценка максимального правдоподобия \"оптимальная\" во многих смыслах. В каких же случаях тогда не следует применять метод максимального правдоподобия?"
   ]
  },
  {
   "cell_type": "markdown",
   "metadata": {},
   "source": [
    "***Ваше ответ здесь***"
   ]
  },
  {
   "cell_type": "markdown",
   "metadata": {},
   "source": [
    "* Многие алгоритмы анализа данных страдают \"проклятием\" размерности. Страдают ли этим проклятием алгоритмы кластеризации? Если да, то как бы Вы с этим боролись?"
   ]
  },
  {
   "cell_type": "markdown",
   "metadata": {},
   "source": [
    "***Ваше ответ здесь***"
   ]
  },
  {
   "cell_type": "markdown",
   "metadata": {},
   "source": [
    "* Представьте, что у Вас есть набор текстовых документов, и Вы хотите разбить эти документы на тематики - новости, спорт, кулинария, кино и так далее. Размеченной выборки у Вас нет, только сами тексты документов. Какие алгоритмы и какие признаки Вы бы использовали для решения данной задачи?"
   ]
  },
  {
   "cell_type": "markdown",
   "metadata": {},
   "source": [
    "***Ваше ответ здесь***"
   ]
  },
  {
   "cell_type": "markdown",
   "metadata": {},
   "source": [
    "* Теперь представьте, что небольшая часть Ваших текстов была размечена людьми, но большая часть так и осталась без таргета. Смогли ли бы Вы использовать эти данные для улучения качества кластеризации? (эта задача называется semi-supervised learning)"
   ]
  },
  {
   "cell_type": "markdown",
   "metadata": {},
   "source": [
    "***Ваше ответ здесь***"
   ]
  },
  {
   "cell_type": "markdown",
   "metadata": {},
   "source": [
    "Здесь Вы можете оставить отзыв о этой домашней работе или о всем курсе.   "
   ]
  },
  {
   "cell_type": "markdown",
   "metadata": {},
   "source": [
    "*** ВАШ ОТЗЫВ ЗДЕСЬ***"
   ]
  },
  {
   "cell_type": "code",
   "execution_count": null,
   "metadata": {
    "collapsed": true
   },
   "outputs": [],
   "source": []
  },
  {
   "cell_type": "code",
   "execution_count": null,
   "metadata": {
    "collapsed": true
   },
   "outputs": [],
   "source": []
  }
 ],
 "metadata": {
  "anaconda-cloud": {},
  "kernelspec": {
   "display_name": "Python 3",
   "language": "python",
   "name": "python3"
  },
  "language_info": {
   "codemirror_mode": {
    "name": "ipython",
    "version": 3
   },
   "file_extension": ".py",
   "mimetype": "text/x-python",
   "name": "python",
   "nbconvert_exporter": "python",
   "pygments_lexer": "ipython3",
   "version": "3.6.5"
  }
 },
 "nbformat": 4,
 "nbformat_minor": 1
}
